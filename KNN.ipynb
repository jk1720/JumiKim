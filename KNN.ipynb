{
 "cells": [
  {
   "cell_type": "markdown",
   "metadata": {
    "slideshow": {
     "slide_type": "slide"
    }
   },
   "source": [
    "## KNN recommendation \n",
    "\n",
    "### Significant attributes\n",
    "* 'room_type', 'bedrooms', 'bathrooms', 'host_since'"
   ]
  },
  {
   "cell_type": "code",
   "execution_count": 44,
   "metadata": {
    "scrolled": true,
    "slideshow": {
     "slide_type": "skip"
    }
   },
   "outputs": [],
   "source": [
    "import pandas as pd\n",
    "file = 'C:\\\\Users\\\\kjumi\\\\Downloads\\\\new-york-city-airbnb-open-data\\\\AB_NYC_UPDATED_reg1.xlsx'\n",
    "data = pd.read_excel(file)"
   ]
  },
  {
   "cell_type": "code",
   "execution_count": 60,
   "metadata": {
    "slideshow": {
     "slide_type": "slide"
    }
   },
   "outputs": [
    {
     "data": {
      "text/plain": [
       "array([[1.  , 0.33, 0.2 , 0.03],\n",
       "       [1.  , 0.11, 0.2 , 0.1 ],\n",
       "       [0.5 , 0.11, 0.2 , 0.5 ],\n",
       "       ...,\n",
       "       [0.5 , 0.11, 0.2 , 0.54],\n",
       "       [0.5 , 0.11, 0.2 , 0.48],\n",
       "       [1.  , 0.22, 0.2 , 0.63]])"
      ]
     },
     "execution_count": 60,
     "metadata": {},
     "output_type": "execute_result"
    }
   ],
   "source": [
    "from sklearn.preprocessing import MinMaxScaler\n",
    "import numpy as np\n",
    "data_sub = data[['room_type', 'bedrooms', 'bathrooms', 'host_since']]\n",
    "min_max_scaler = MinMaxScaler()\n",
    "features = min_max_scaler.fit_transform(data_sub)\n",
    "np.round(features,2)"
   ]
  },
  {
   "cell_type": "markdown",
   "metadata": {
    "slideshow": {
     "slide_type": "slide"
    }
   },
   "source": [
    "## Fit Nearest Neighbor To Data"
   ]
  },
  {
   "cell_type": "code",
   "execution_count": 61,
   "metadata": {
    "slideshow": {
     "slide_type": "slide"
    }
   },
   "outputs": [
    {
     "data": {
      "text/plain": [
       "0         Superb 3BR Apt Located Near Times Square\n",
       "1                                 The Garden Oasis\n",
       "2               Large East Village Bedroom To Let!\n",
       "3    3 Bedroom Apartment for Small Group or Family\n",
       "4                               THE LIBRARY LOUNGE\n",
       "5                          JFK LUXURIOUS APARTMENT\n",
       "6       Luxurious 2 bedroom Apartment in Rego Park\n",
       "7              CENTER OF MANHATTAN! NICE COZY ROOM\n",
       "8        Modern Room in a Cozy, Colorful Apartment\n",
       "9                           Intimate Isolate Oasis\n",
       "Name: name, dtype: object"
      ]
     },
     "execution_count": 61,
     "metadata": {},
     "output_type": "execute_result"
    }
   ],
   "source": [
    "from sklearn.neighbors import NearestNeighbors\n",
    "nbrs = NearestNeighbors(n_neighbors=6, algorithm='ball_tree').fit(features)\n",
    "distances, indices = nbrs.kneighbors(features)\n",
    "data['name'][:10]"
   ]
  },
  {
   "cell_type": "code",
   "execution_count": 53,
   "metadata": {
    "slideshow": {
     "slide_type": "skip"
    }
   },
   "outputs": [],
   "source": [
    "def get_index_from_name(name):\n",
    "    return data[data[\"name\"]==name].index.tolist()[0]"
   ]
  },
  {
   "cell_type": "code",
   "execution_count": 54,
   "metadata": {
    "slideshow": {
     "slide_type": "skip"
    }
   },
   "outputs": [],
   "source": [
    "all_names = list(data.name.values)"
   ]
  },
  {
   "cell_type": "code",
   "execution_count": 55,
   "metadata": {
    "slideshow": {
     "slide_type": "skip"
    }
   },
   "outputs": [],
   "source": [
    "def get_id_from_partial_name(partial):\n",
    "    for name in all_names:\n",
    "        if partial in name:\n",
    "            return all_names.index(name)\n",
    "            #print(name,all_names.index(name))"
   ]
  },
  {
   "cell_type": "code",
   "execution_count": 56,
   "metadata": {
    "slideshow": {
     "slide_type": "skip"
    }
   },
   "outputs": [],
   "source": [
    "def print_similar_airbnb(query=None,id=None):\n",
    "    name_l = []\n",
    "    if id:\n",
    "        for id in indices[id][1:]:\n",
    "            print(data.ix[id][\"name\"])\n",
    "    if query:\n",
    "        found_id = get_id_from_partial_name(query)\n",
    "        for id in indices[found_id][1:]:\n",
    "            #print(data.ix[id][\"name\"])\n",
    "            name_l.append(data.ix[id][\"name\"])\n",
    "    return name_l\n"
   ]
  },
  {
   "cell_type": "code",
   "execution_count": 62,
   "metadata": {
    "slideshow": {
     "slide_type": "subslide"
    }
   },
   "outputs": [
    {
     "name": "stderr",
     "output_type": "stream",
     "text": [
      "C:\\Users\\kjumi\\AppData\\Local\\Continuum\\anaconda3\\lib\\site-packages\\ipykernel_launcher.py:10: DeprecationWarning: \n",
      ".ix is deprecated. Please use\n",
      ".loc for label based indexing or\n",
      ".iloc for positional indexing\n",
      "\n",
      "See the documentation here:\n",
      "http://pandas.pydata.org/pandas-docs/stable/indexing.html#ix-indexer-is-deprecated\n",
      "  # Remove the CWD from sys.path while we load stuff.\n"
     ]
    },
    {
     "data": {
      "text/plain": [
       "['Duplex   Roof top  in the heart of crown hight',\n",
       " 'Williamsburg 3bedrooms-LOFT--BEST LOCATION-SLEEP 8',\n",
       " 'modern and bright',\n",
       " 'Modern Spacious and Sunny Place',\n",
       " 'Charming NYC Getaway - 3 BR Apt In The UES']"
      ]
     },
     "execution_count": 62,
     "metadata": {},
     "output_type": "execute_result"
    }
   ],
   "source": [
    "print_similar_airbnb(query=\"Near Times Square\")"
   ]
  },
  {
   "cell_type": "code",
   "execution_count": 58,
   "metadata": {
    "scrolled": true,
    "slideshow": {
     "slide_type": "subslide"
    }
   },
   "outputs": [
    {
     "name": "stderr",
     "output_type": "stream",
     "text": [
      "C:\\Users\\kjumi\\AppData\\Local\\Continuum\\anaconda3\\lib\\site-packages\\ipykernel_launcher.py:10: DeprecationWarning: \n",
      ".ix is deprecated. Please use\n",
      ".loc for label based indexing or\n",
      ".iloc for positional indexing\n",
      "\n",
      "See the documentation here:\n",
      "http://pandas.pydata.org/pandas-docs/stable/indexing.html#ix-indexer-is-deprecated\n",
      "  # Remove the CWD from sys.path while we load stuff.\n"
     ]
    },
    {
     "data": {
      "text/plain": [
       "[\"Brooklyn's Bed & Breakfast (3 BR)\",\n",
       " 'Beautiful and Private Apartment in Astoria',\n",
       " '☆Modern 3BR in Flushing w. Parking ☆ Near JFK/LGA☆',\n",
       " '3 Bedrooms Sleeps 8 in Dyker Heights Brooklyn',\n",
       " 'Spacious 3 BR home in Brooklyn']"
      ]
     },
     "execution_count": 58,
     "metadata": {},
     "output_type": "execute_result"
    }
   ],
   "source": [
    "print_similar_airbnb(query=\"LUXURIOUS APARTMENT\")"
   ]
  },
  {
   "cell_type": "code",
   "execution_count": 59,
   "metadata": {
    "slideshow": {
     "slide_type": "subslide"
    }
   },
   "outputs": [
    {
     "name": "stdout",
     "output_type": "stream",
     "text": [
      "input the partial nameBrooklyn's\n"
     ]
    },
    {
     "name": "stderr",
     "output_type": "stream",
     "text": [
      "C:\\Users\\kjumi\\AppData\\Local\\Continuum\\anaconda3\\lib\\site-packages\\ipykernel_launcher.py:10: DeprecationWarning: \n",
      ".ix is deprecated. Please use\n",
      ".loc for label based indexing or\n",
      ".iloc for positional indexing\n",
      "\n",
      "See the documentation here:\n",
      "http://pandas.pydata.org/pandas-docs/stable/indexing.html#ix-indexer-is-deprecated\n",
      "  # Remove the CWD from sys.path while we load stuff.\n"
     ]
    },
    {
     "data": {
      "text/plain": [
       "['☆Modern 3BR in Flushing w. Parking ☆ Near JFK/LGA☆',\n",
       " 'JFK LUXURIOUS APARTMENT',\n",
       " 'Beautiful and Private Apartment in Astoria',\n",
       " '3 Bedrooms Sleeps 8 in Dyker Heights Brooklyn',\n",
       " 'Spacious 3 BR home in Brooklyn']"
      ]
     },
     "execution_count": 59,
     "metadata": {},
     "output_type": "execute_result"
    }
   ],
   "source": [
    "f = input('input the partial name')\n",
    "print_similar_airbnb(query = f)"
   ]
  },
  {
   "cell_type": "code",
   "execution_count": null,
   "metadata": {},
   "outputs": [],
   "source": []
  }
 ],
 "metadata": {
  "celltoolbar": "Slideshow",
  "kernelspec": {
   "display_name": "Python 3",
   "language": "python",
   "name": "python3"
  },
  "language_info": {
   "codemirror_mode": {
    "name": "ipython",
    "version": 3
   },
   "file_extension": ".py",
   "mimetype": "text/x-python",
   "name": "python",
   "nbconvert_exporter": "python",
   "pygments_lexer": "ipython3",
   "version": "3.7.3"
  }
 },
 "nbformat": 4,
 "nbformat_minor": 2
}
